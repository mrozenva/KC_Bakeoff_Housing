{
 "cells": [
  {
   "cell_type": "code",
   "execution_count": 1,
   "metadata": {},
   "outputs": [],
   "source": [
    "import pandas as pd\n",
    "import numpy as np\n",
    "from sklearn import metrics\n",
    "import time\n",
    "import os\n",
    "import glob\n",
    "import re"
   ]
  },
  {
   "cell_type": "code",
   "execution_count": 2,
   "metadata": {},
   "outputs": [],
   "source": [
    "actuals = pd.read_csv('kc_house_data_test_target.csv',index_col=0  )\n"
   ]
  },
  {
   "cell_type": "code",
   "execution_count": 3,
   "metadata": {},
   "outputs": [
    {
     "data": {
      "text/plain": [
       "(4323, 2)"
      ]
     },
     "execution_count": 3,
     "metadata": {},
     "output_type": "execute_result"
    }
   ],
   "source": [
    "actuals.shape"
   ]
  },
  {
   "cell_type": "code",
   "execution_count": 4,
   "metadata": {},
   "outputs": [],
   "source": [
    "path = '/Users/swilson5/Documents/DSC/ds-091420/nyc-mhtn-ds-091420-lectures/Phase_2/KC_house_bakeoff/answers'\n",
    "extension = 'csv'"
   ]
  },
  {
   "cell_type": "code",
   "execution_count": 5,
   "metadata": {},
   "outputs": [
    {
     "name": "stdout",
     "output_type": "stream",
     "text": [
      "['King_County_Final_predictions_shin.csv', 'housing_preds_ismael_araujo.csv', 'housing_preds_dorjey_sherpa.csv', 'housing_preds_ben_spilsbury.csv', 'housing_preds_Alex_Zieky.csv', 'kc_house_price_prediction_yung.csv', 'housing_preds_aidan_coco.csv', 'housing_preds_sidney_kung.csv', 'housing_preds_justin_fernandez.csv', 'housing_preds_Jacob_Heyman.csv', 'housing_preds_nick_subic.csv', 'housing_pred_Mitch_Krieger.csv', 'housing_preds_michael_wirtz.csv', 'housing_preds_your_ignacio_ruiz.csv', 'housing_preds_amelia_dahm.csv', 'housing_preds_khyatee.csv', 'housing_preds_Tim_hintz.csv', 'housing_preds_Eric_Roberts.csv', 'housing_preds_2_oddi.csv', 'housing_preds_Lhamu.csv', 'housing_preds_Brendan_Ferris.csv', 'housing_preds_david_bruce.csv', 'housing_preds_justin_williams.csv']\n"
     ]
    }
   ],
   "source": [
    "\n",
    "# create a list of all file names\n",
    "# starting with testlabels_ from the file\n",
    "\n",
    "\n",
    "# ‎⁨Macintosh HD⁩ ▸ ⁨Users⁩ ▸ ⁨swilson5⁩ ▸ ⁨Documents⁩ ▸ ⁨DSC⁩ ▸ ⁨ds-033020⁩ ▸ ⁨nyc-ds-033020-lectures⁩ ▸ ⁨Mod_2⁩ ▸ ⁨KC_house_data⁩\n",
    "os.chdir(path)\n",
    "files = glob.glob('*.{}'.format(extension))\n",
    "print(files)"
   ]
  },
  {
   "cell_type": "code",
   "execution_count": 6,
   "metadata": {},
   "outputs": [],
   "source": [
    "#create dictionary to store results\n",
    "results = {}\n"
   ]
  },
  {
   "cell_type": "code",
   "execution_count": 7,
   "metadata": {},
   "outputs": [
    {
     "name": "stdout",
     "output_type": "stream",
     "text": [
      "shin\n",
      "araujo\n",
      "sherpa\n",
      "spilsbury\n",
      "Zieky\n",
      "yung\n",
      "coco\n",
      "kung\n",
      "fernandez\n",
      "Heyman\n",
      "subic\n",
      "Krieger\n",
      "wirtz\n",
      "ruiz\n",
      "dahm\n",
      "khyatee\n",
      "hintz\n",
      "Roberts\n",
      "oddi\n",
      "Lhamu\n",
      "Ferris\n",
      "bruce\n",
      "williams\n"
     ]
    }
   ],
   "source": [
    "for file in files:\n",
    "    name = file.split(\"_\")[-1].split(\".\")[0]\n",
    "    print(name)\n",
    "    guesses = pd.read_csv(file,  index_col=0 )\n",
    " \n",
    "\n",
    "    # guesses.sort_index(inplace=True)\n",
    "\n",
    "    if guesses.shape[0] != 4323:\n",
    "        print(name, \"not the correct size\", guesses.shape[0]  )\n",
    "        continue\n",
    "    mae = metrics.mean_absolute_error(actuals['price'],guesses)\n",
    "    mse = metrics.mean_squared_error(actuals['price'],guesses)\n",
    "    rmse = np.sqrt(mse)\n",
    "    results[name]= [mae, rmse]\n"
   ]
  },
  {
   "cell_type": "code",
   "execution_count": 8,
   "metadata": {},
   "outputs": [],
   "source": [
    "\n",
    "sorted_results = sorted(results.items(), key=lambda x: x[1][1], reverse=True)"
   ]
  },
  {
   "cell_type": "code",
   "execution_count": 12,
   "metadata": {},
   "outputs": [
    {
     "data": {
      "text/plain": [
       "[('kung', [1006887.4800145478, 10247968.232510047]),\n",
       " ('Ferris', [333485.402138005, 511171.58946058527]),\n",
       " ('sherpa', [343030.25210454833, 499214.2626474782]),\n",
       " ('yung', [212886.91804847555, 360061.66233511595]),\n",
       " ('Roberts', [150868.25415675863, 246196.676947461]),\n",
       " ('williams', [136393.28440718664, 207397.4636692553]),\n",
       " ('dahm', [125981.85019584687, 202420.55847167788]),\n",
       " ('hintz', [140913.72832405422, 194665.10760571313]),\n",
       " ('fernandez', [126513.21816974571, 194625.44765642952]),\n",
       " ('Zieky', [117649.84889671902, 189362.05672317257]),\n",
       " ('ruiz', [116335.99828172951, 183616.39549009505]),\n",
       " ('subic', [88260.01141713472, 177297.49203740727]),\n",
       " ('araujo', [111405.80883084753, 173730.70498539912]),\n",
       " ('Heyman', [100207.90366746247, 165002.43440818565]),\n",
       " ('Krieger', [101548.30382385239, 164077.67020384423]),\n",
       " ('Lhamu', [102288.91326955389, 161749.44866926703]),\n",
       " ('shin', [101802.50244511859, 160895.8391010931]),\n",
       " ('bruce', [102224.52252854756, 160273.891955042]),\n",
       " ('spilsbury', [90736.12544306698, 154261.325573837]),\n",
       " ('oddi', [92412.0817749423, 153313.76692246067]),\n",
       " ('wirtz', [86600.25475957565, 145232.77030320175]),\n",
       " ('coco', [76133.59912687958, 132832.16214915295]),\n",
       " ('khyatee', [78002.87832864544, 129757.56415339764])]"
      ]
     },
     "execution_count": 12,
     "metadata": {},
     "output_type": "execute_result"
    }
   ],
   "source": [
    "sorted_results"
   ]
  },
  {
   "cell_type": "code",
   "execution_count": 10,
   "metadata": {
    "scrolled": true
   },
   "outputs": [
    {
     "name": "stdout",
     "output_type": "stream",
     "text": [
      "Now printing the results with in ascending order\n",
      "10247968.232510047\n",
      "KUNG achieved an RMSE of 10247968.232510047 \n",
      "\n",
      "511171.58946058527\n",
      "FERRIS achieved an RMSE of 511171.58946058527 \n",
      "\n",
      "499214.2626474782\n",
      "SHERPA achieved an RMSE of 499214.2626474782 \n",
      "\n",
      "360061.66233511595\n",
      "YUNG achieved an RMSE of 360061.66233511595 \n",
      "\n",
      "246196.676947461\n",
      "ROBERTS achieved an RMSE of 246196.676947461 \n",
      "\n",
      "207397.4636692553\n",
      "WILLIAMS achieved an RMSE of 207397.4636692553 \n",
      "\n",
      "202420.55847167788\n",
      "DAHM achieved an RMSE of 202420.55847167788 \n",
      "\n",
      "194665.10760571313\n",
      "HINTZ achieved an RMSE of 194665.10760571313 \n",
      "\n",
      "194625.44765642952\n",
      "FERNANDEZ achieved an RMSE of 194625.44765642952 \n",
      "\n",
      "189362.05672317257\n",
      "ZIEKY achieved an RMSE of 189362.05672317257 \n",
      "\n",
      "183616.39549009505\n",
      "RUIZ achieved an RMSE of 183616.39549009505 \n",
      "\n",
      "177297.49203740727\n",
      "SUBIC achieved an RMSE of 177297.49203740727 \n",
      "\n",
      "173730.70498539912\n",
      "ARAUJO achieved an RMSE of 173730.70498539912 \n",
      "\n",
      "165002.43440818565\n",
      "HEYMAN achieved an RMSE of 165002.43440818565 \n",
      "\n",
      "164077.67020384423\n",
      "KRIEGER achieved an RMSE of 164077.67020384423 \n",
      "\n",
      "161749.44866926703\n",
      "LHAMU achieved an RMSE of 161749.44866926703 \n",
      "\n",
      "160895.8391010931\n",
      "SHIN achieved an RMSE of 160895.8391010931 \n",
      "\n",
      "160273.891955042\n",
      "BRUCE achieved an RMSE of 160273.891955042 \n",
      "\n",
      "154261.325573837\n",
      "SPILSBURY achieved an RMSE of 154261.325573837 \n",
      "\n",
      "153313.76692246067\n",
      "ODDI achieved an RMSE of 153313.76692246067 \n",
      "\n",
      "145232.77030320175\n",
      "WIRTZ achieved an RMSE of 145232.77030320175 \n",
      "\n",
      "132832.16214915295\n",
      "COCO achieved an RMSE of 132832.16214915295 \n",
      "\n",
      "129757.56415339764\n",
      "KHYATEE achieved an RMSE of 129757.56415339764 \n",
      "\n"
     ]
    }
   ],
   "source": [
    "\n",
    "\n",
    "print('Now printing the results with in ascending order')\n",
    "\n",
    "for k,v in sorted_results:\n",
    "    print(v[1])\n",
    "    print('{} achieved an RMSE of {} \\n'.format(\n",
    "          k.upper(), v[1]))\n",
    "\n",
    "    time.sleep(2)\n"
   ]
  },
  {
   "cell_type": "code",
   "execution_count": 11,
   "metadata": {},
   "outputs": [
    {
     "name": "stdout",
     "output_type": "stream",
     "text": [
      "Now printing the results with in ascending order\n",
      "10247968.232510047\n",
      "KUNG achieved an MAE of 1006887.4800145478 \n",
      "\n",
      "511171.58946058527\n",
      "FERRIS achieved an MAE of 333485.402138005 \n",
      "\n",
      "499214.2626474782\n",
      "SHERPA achieved an MAE of 343030.25210454833 \n",
      "\n",
      "360061.66233511595\n",
      "YUNG achieved an MAE of 212886.91804847555 \n",
      "\n",
      "246196.676947461\n",
      "ROBERTS achieved an MAE of 150868.25415675863 \n",
      "\n",
      "207397.4636692553\n",
      "WILLIAMS achieved an MAE of 136393.28440718664 \n",
      "\n",
      "202420.55847167788\n",
      "DAHM achieved an MAE of 125981.85019584687 \n",
      "\n",
      "194665.10760571313\n",
      "HINTZ achieved an MAE of 140913.72832405422 \n",
      "\n",
      "194625.44765642952\n",
      "FERNANDEZ achieved an MAE of 126513.21816974571 \n",
      "\n",
      "189362.05672317257\n",
      "ZIEKY achieved an MAE of 117649.84889671902 \n",
      "\n",
      "183616.39549009505\n",
      "RUIZ achieved an MAE of 116335.99828172951 \n",
      "\n",
      "177297.49203740727\n",
      "SUBIC achieved an MAE of 88260.01141713472 \n",
      "\n",
      "173730.70498539912\n",
      "ARAUJO achieved an MAE of 111405.80883084753 \n",
      "\n",
      "165002.43440818565\n",
      "HEYMAN achieved an MAE of 100207.90366746247 \n",
      "\n",
      "164077.67020384423\n",
      "KRIEGER achieved an MAE of 101548.30382385239 \n",
      "\n",
      "161749.44866926703\n",
      "LHAMU achieved an MAE of 102288.91326955389 \n",
      "\n",
      "160895.8391010931\n",
      "SHIN achieved an MAE of 101802.50244511859 \n",
      "\n",
      "160273.891955042\n",
      "BRUCE achieved an MAE of 102224.52252854756 \n",
      "\n",
      "154261.325573837\n",
      "SPILSBURY achieved an MAE of 90736.12544306698 \n",
      "\n",
      "153313.76692246067\n",
      "ODDI achieved an MAE of 92412.0817749423 \n",
      "\n",
      "145232.77030320175\n",
      "WIRTZ achieved an MAE of 86600.25475957565 \n",
      "\n",
      "132832.16214915295\n",
      "COCO achieved an MAE of 76133.59912687958 \n",
      "\n",
      "129757.56415339764\n",
      "KHYATEE achieved an MAE of 78002.87832864544 \n",
      "\n"
     ]
    }
   ],
   "source": [
    "\n",
    "print('Now printing the results with in ascending order')\n",
    "\n",
    "for k,v in sorted_results:\n",
    "    print(v[1])\n",
    "    print('{} achieved an MAE of {} \\n'.format(\n",
    "          k.upper(), v[0]))\n",
    "\n",
    "    time.sleep(.1)\n"
   ]
  },
  {
   "cell_type": "code",
   "execution_count": null,
   "metadata": {},
   "outputs": [],
   "source": []
  },
  {
   "cell_type": "code",
   "execution_count": null,
   "metadata": {},
   "outputs": [],
   "source": []
  },
  {
   "cell_type": "code",
   "execution_count": null,
   "metadata": {},
   "outputs": [],
   "source": []
  },
  {
   "cell_type": "code",
   "execution_count": null,
   "metadata": {},
   "outputs": [],
   "source": []
  },
  {
   "cell_type": "code",
   "execution_count": null,
   "metadata": {},
   "outputs": [],
   "source": []
  }
 ],
 "metadata": {
  "kernelspec": {
   "display_name": "Python 3",
   "language": "python",
   "name": "python3"
  },
  "language_info": {
   "codemirror_mode": {
    "name": "ipython",
    "version": 3
   },
   "file_extension": ".py",
   "mimetype": "text/x-python",
   "name": "python",
   "nbconvert_exporter": "python",
   "pygments_lexer": "ipython3",
   "version": "3.7.3"
  }
 },
 "nbformat": 4,
 "nbformat_minor": 2
}
